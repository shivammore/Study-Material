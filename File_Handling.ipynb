{
  "nbformat": 4,
  "nbformat_minor": 0,
  "metadata": {
    "colab": {
      "name": "File_Handling.ipynb",
      "provenance": [],
      "collapsed_sections": [],
      "authorship_tag": "ABX9TyOqnpu+atW/bEZ0eIm4o3Rd"
    },
    "kernelspec": {
      "name": "python3",
      "display_name": "Python 3"
    }
  },
  "cells": [
    {
      "cell_type": "markdown",
      "metadata": {
        "id": "nN4tkJ3UmjRW",
        "colab_type": "text"
      },
      "source": [
        "**Program For Creating , Writing and Reading Operation Of File**"
      ]
    },
    {
      "cell_type": "code",
      "metadata": {
        "id": "bpR3N0dyj7OT",
        "colab_type": "code",
        "colab": {
          "base_uri": "https://localhost:8080/",
          "height": 34
        },
        "outputId": "7873679b-56ef-40f9-faa0-38a27bfae544"
      },
      "source": [
        "f = open(\"text.txt\",\"w\") #open file with write mode\n",
        "f.write(\"Hello World\")   #writing file\n",
        "f = open(\"text.txt\",\"r\") #opeing file with read mode\n",
        "print(f.read())          #reading file\n",
        "f.close()                #closing file\n"
      ],
      "execution_count": 31,
      "outputs": [
        {
          "output_type": "stream",
          "text": [
            "Hello World\n"
          ],
          "name": "stdout"
        }
      ]
    },
    {
      "cell_type": "markdown",
      "metadata": {
        "id": "Yb-dgEPQm4Ik",
        "colab_type": "text"
      },
      "source": [
        "**Program For Appending The File**"
      ]
    },
    {
      "cell_type": "code",
      "metadata": {
        "id": "fMDIeIiDm9xM",
        "colab_type": "code",
        "colab": {
          "base_uri": "https://localhost:8080/",
          "height": 102
        },
        "outputId": "07725892-bf2e-47f9-e0c6-c86bffdd5c07"
      },
      "source": [
        "f=open(\"text.txt\",\"a\")        #opeing file with read mode\n",
        "f.write(\"\\nHow are you\\nhi\")\n",
        "f=open(\"text.txt\",\"r\")\n",
        "for re in f:                  #using for loop to read file\n",
        "  print (re)\n",
        "\n",
        "f.close()"
      ],
      "execution_count": 32,
      "outputs": [
        {
          "output_type": "stream",
          "text": [
            "Hello World\n",
            "\n",
            "How are you\n",
            "\n",
            "hi\n"
          ],
          "name": "stdout"
        }
      ]
    },
    {
      "cell_type": "markdown",
      "metadata": {
        "id": "hs6sFB0nvQdk",
        "colab_type": "text"
      },
      "source": [
        "Removing **File**"
      ]
    },
    {
      "cell_type": "code",
      "metadata": {
        "id": "gcCa6Ih4vS7T",
        "colab_type": "code",
        "colab": {}
      },
      "source": [
        "import os\n",
        "os.remove(\"text.txt\")"
      ],
      "execution_count": 0,
      "outputs": []
    }
  ]
}